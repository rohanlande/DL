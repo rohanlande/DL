{
 "cells": [
  {
   "cell_type": "code",
   "execution_count": null,
   "id": "620357cb-8a9e-40c0-84f1-c7cc1254da1a",
   "metadata": {},
   "outputs": [],
   "source": [
    "import tensorflow as tf\n",
    "import numpy as np\n",
    "from tensorflow.keras.models import Sequential\n",
    "from tensorflow.keras.layers import Flatten, Dense\n",
    "from tensorflow.keras import optimizers\n",
    "from tensorflow.keras.utils import to_categorical1"
   ]
  },
  {
   "cell_type": "code",
   "execution_count": 2,
   "id": "d41c542f-3b03-4c4a-a02f-93a4895e56c5",
   "metadata": {},
   "outputs": [],
   "source": [
    "import pandas as pd\n",
    "import matplotlib.pyplot as plt"
   ]
  },
  {
   "cell_type": "code",
   "execution_count": 10,
   "id": "aa1c62f5-a8ac-4faa-9905-d202af7a4145",
   "metadata": {},
   "outputs": [],
   "source": [
    "train_data = pd.read_csv('C:\\\\Users\\\\ankur_vc1xnom\\\\Desktop\\\\LP4\\\\LP-IV-datasets\\\\MNIST(Ass2&3)\\\\mnist_train.csv')\n",
    "test_data = pd.read_csv('C:\\\\Users\\\\ankur_vc1xnom\\\\Desktop\\\\LP4\\\\LP-IV-datasets\\\\MNIST(Ass2&3)\\\\mnist_test.csv')"
   ]
  },
  {
   "cell_type": "code",
   "execution_count": 13,
   "id": "c3461749-5415-4c2f-ad91-0dfcc7ba1a05",
   "metadata": {},
   "outputs": [
    {
     "data": {
      "text/plain": [
       "Index(['label', '1x1', '1x2', '1x3', '1x4', '1x5', '1x6', '1x7', '1x8', '1x9',\n",
       "       ...\n",
       "       '28x19', '28x20', '28x21', '28x22', '28x23', '28x24', '28x25', '28x26',\n",
       "       '28x27', '28x28'],\n",
       "      dtype='object', length=785)"
      ]
     },
     "execution_count": 13,
     "metadata": {},
     "output_type": "execute_result"
    }
   ],
   "source": [
    "train_data.columns"
   ]
  },
  {
   "cell_type": "code",
   "execution_count": 22,
   "id": "02958ffb-69a8-48d6-842e-7d080091df41",
   "metadata": {},
   "outputs": [],
   "source": [
    "xtr = train_data.drop('label', axis = 1).values\n",
    "xts = test_data.drop('label', axis = 1).values"
   ]
  },
  {
   "cell_type": "code",
   "execution_count": 23,
   "id": "e0227813-c4a4-4a0a-bc87-2d35504a4695",
   "metadata": {},
   "outputs": [
    {
     "data": {
      "text/plain": [
       "(60000, 784)"
      ]
     },
     "execution_count": 23,
     "metadata": {},
     "output_type": "execute_result"
    }
   ],
   "source": [
    "xtr.shape"
   ]
  },
  {
   "cell_type": "code",
   "execution_count": 24,
   "id": "53261486-dcc1-49c3-b332-798350a5f4af",
   "metadata": {},
   "outputs": [],
   "source": [
    "ytr = train_data['label'].values\n",
    "yts = test_data['label'].values"
   ]
  },
  {
   "cell_type": "code",
   "execution_count": 25,
   "id": "56e789a8-d57f-4135-ab9c-4e81c5b3d71d",
   "metadata": {},
   "outputs": [],
   "source": [
    "xtr, xts = xtr/255.0, xts/255.0"
   ]
  },
  {
   "cell_type": "code",
   "execution_count": 26,
   "id": "7da4715f-1849-4526-85d2-549c9be5405b",
   "metadata": {},
   "outputs": [],
   "source": [
    "ytr = to_categorical(ytr, 10)"
   ]
  },
  {
   "cell_type": "code",
   "execution_count": 27,
   "id": "b56eeee3-364d-4c1c-9459-3981b5d1bf85",
   "metadata": {},
   "outputs": [],
   "source": [
    "yts = to_categorical(yts, 10)"
   ]
  },
  {
   "cell_type": "code",
   "execution_count": 30,
   "id": "9d663ca1-62b1-40b4-9129-1c6f90646201",
   "metadata": {},
   "outputs": [
    {
     "name": "stderr",
     "output_type": "stream",
     "text": [
      "C:\\Users\\ankur_vc1xnom\\Desktop\\LP4\\dlenv\\Lib\\site-packages\\keras\\src\\layers\\reshaping\\flatten.py:37: UserWarning: Do not pass an `input_shape`/`input_dim` argument to a layer. When using Sequential models, prefer using an `Input(shape)` object as the first layer in the model instead.\n",
      "  super().__init__(**kwargs)\n"
     ]
    }
   ],
   "source": [
    "model = Sequential(\n",
    "    [\n",
    "        Flatten(input_shape =  (784,)),\n",
    "        Dense(128, 'relu'),\n",
    "        Dense(64, 'relu'),\n",
    "        Dense(32, 'relu'),\n",
    "        Dense(10, 'softmax')\n",
    "    ]\n",
    ")"
   ]
  },
  {
   "cell_type": "code",
   "execution_count": 31,
   "id": "2d055bf7-08fb-44de-af68-a4b00e4959e0",
   "metadata": {},
   "outputs": [],
   "source": [
    "model.compile(optimizer = 'sgd', loss = 'categorical_crossentropy', metrics = ['accuracy'])"
   ]
  },
  {
   "cell_type": "code",
   "execution_count": 33,
   "id": "73da7321-7e79-444f-b5f3-2282a11a69a8",
   "metadata": {},
   "outputs": [
    {
     "name": "stdout",
     "output_type": "stream",
     "text": [
      "Epoch 1/5\n",
      "\u001b[1m1875/1875\u001b[0m \u001b[32m━━━━━━━━━━━━━━━━━━━━\u001b[0m\u001b[37m\u001b[0m \u001b[1m6s\u001b[0m 3ms/step - accuracy: 0.5981 - loss: 1.2855 - val_accuracy: 0.9102 - val_loss: 0.3103\n",
      "Epoch 2/5\n",
      "\u001b[1m1875/1875\u001b[0m \u001b[32m━━━━━━━━━━━━━━━━━━━━\u001b[0m\u001b[37m\u001b[0m \u001b[1m5s\u001b[0m 3ms/step - accuracy: 0.9119 - loss: 0.3025 - val_accuracy: 0.9322 - val_loss: 0.2339\n",
      "Epoch 3/5\n",
      "\u001b[1m1875/1875\u001b[0m \u001b[32m━━━━━━━━━━━━━━━━━━━━\u001b[0m\u001b[37m\u001b[0m \u001b[1m5s\u001b[0m 3ms/step - accuracy: 0.9361 - loss: 0.2214 - val_accuracy: 0.9428 - val_loss: 0.1897\n",
      "Epoch 4/5\n",
      "\u001b[1m1875/1875\u001b[0m \u001b[32m━━━━━━━━━━━━━━━━━━━━\u001b[0m\u001b[37m\u001b[0m \u001b[1m5s\u001b[0m 3ms/step - accuracy: 0.9482 - loss: 0.1821 - val_accuracy: 0.9519 - val_loss: 0.1615\n",
      "Epoch 5/5\n",
      "\u001b[1m1875/1875\u001b[0m \u001b[32m━━━━━━━━━━━━━━━━━━━━\u001b[0m\u001b[37m\u001b[0m \u001b[1m5s\u001b[0m 3ms/step - accuracy: 0.9549 - loss: 0.1559 - val_accuracy: 0.9549 - val_loss: 0.1444\n"
     ]
    }
   ],
   "source": [
    "history = model.fit(xtr, ytr, epochs = 5, validation_data = (xts, yts))"
   ]
  },
  {
   "cell_type": "code",
   "execution_count": 34,
   "id": "abcb6e2e-90db-4e67-8780-21cdb8c427b2",
   "metadata": {},
   "outputs": [
    {
     "name": "stdout",
     "output_type": "stream",
     "text": [
      "\u001b[1m313/313\u001b[0m \u001b[32m━━━━━━━━━━━━━━━━━━━━\u001b[0m\u001b[37m\u001b[0m \u001b[1m1s\u001b[0m 3ms/step - accuracy: 0.9464 - loss: 0.1709\n"
     ]
    }
   ],
   "source": [
    "tl, ta = model.evaluate(xts, yts)"
   ]
  },
  {
   "cell_type": "code",
   "execution_count": 35,
   "id": "c3dc655e-f4fa-486a-8434-302f940779df",
   "metadata": {},
   "outputs": [
    {
     "data": {
      "text/plain": [
       "0.144440159201622"
      ]
     },
     "execution_count": 35,
     "metadata": {},
     "output_type": "execute_result"
    }
   ],
   "source": [
    "tl"
   ]
  },
  {
   "cell_type": "code",
   "execution_count": 36,
   "id": "81913a61-e172-4997-a2d5-46ff95e4c570",
   "metadata": {},
   "outputs": [
    {
     "data": {
      "text/plain": [
       "0.9549000263214111"
      ]
     },
     "execution_count": 36,
     "metadata": {},
     "output_type": "execute_result"
    }
   ],
   "source": [
    "ta"
   ]
  },
  {
   "cell_type": "code",
   "execution_count": 39,
   "id": "d894333d-2e19-49f1-ab7a-6d84922ff2b4",
   "metadata": {},
   "outputs": [
    {
     "data": {
      "image/png": "[encoded data removed]",
      "text/plain": [
       "<Figure size 1200x400 with 2 Axes>"
      ]
     },
     "metadata": {},
     "output_type": "display_data"
    }
   ],
   "source": [
    "plt.figure(figsize=  (12,4))\n",
    "plt.subplot(1,2,1)\n",
    "plt.plot(history.history['loss'])\n",
    "plt.plot(history.history['val_loss'])\n",
    "plt.subplot(1,2,2)\n",
    "plt.plot(history.history['accuracy'])\n",
    "plt.plot(history.history['val_accuracy'])\n",
    "plt.show()"
   ]
  },
  {
   "cell_type": "code",
   "execution_count": null,
   "id": "f073e093-757c-4e7d-b048-601a650d93ad",
   "metadata": {},
   "outputs": [],
   "source": []
  },
  {
   "cell_type": "code",
   "execution_count": null,
   "id": "45c4353c-f6ae-4010-a9b2-dbad505aa1d9",
   "metadata": {},
   "outputs": [],
   "source": []
  }
 ],
 "metadata": {
  "kernelspec": {
   "display_name": "Python 3 (ipykernel)",
   "language": "python",
   "name": "python3"
  },
  "language_info": {
   "codemirror_mode": {
    "name": "ipython",
    "version": 3
   },
   "file_extension": ".py",
   "mimetype": "text/x-python",
   "name": "python",
   "nbconvert_exporter": "python",
   "pygments_lexer": "ipython3",
   "version": "3.11.3"
  }
 },
 "nbformat": 4,
 "nbformat_minor": 5
}
