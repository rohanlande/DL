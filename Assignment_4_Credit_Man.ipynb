{
 "cells": [
  {
   "cell_type": "code",
   "execution_count": 14,
   "id": "4e0904ff-118d-492c-ae49-ec03025b7241",
   "metadata": {},
   "outputs": [],
   "source": [
    "from tensorflow.keras.models import Sequential, Model\n",
    "from tensorflow.keras.layers import Dense, Flatten, Input\n",
    "from tensorflow.keras.utils import to_categorical as tc\n",
    "import numpy as np\n",
    "import pandas as pd\n",
    "import matplotlib.pyplot as plt"
   ]
  },
  {
   "cell_type": "code",
   "execution_count": 2,
   "id": "9041ee16-5772-43a6-a686-eeeafa04ff82",
   "metadata": {},
   "outputs": [],
   "source": [
    "train = pd.read_csv('C:\\\\Users\\\\ankur_vc1xnom\\\\Desktop\\LP4\\\\LP-IV-datasets\\\\creditcard.csv\\\\creditcard.csv')"
   ]
  },
  {
   "cell_type": "code",
   "execution_count": 6,
   "id": "03b2c81b-d953-4e59-ab1a-fa14544e1abc",
   "metadata": {},
   "outputs": [
    {
     "data": {
      "text/plain": [
       "Index(['Time', 'V1', 'V2', 'V3', 'V4', 'V5', 'V6', 'V7', 'V8', 'V9', 'V10',\n",
       "       'V11', 'V12', 'V13', 'V14', 'V15', 'V16', 'V17', 'V18', 'V19', 'V20',\n",
       "       'V21', 'V22', 'V23', 'V24', 'V25', 'V26', 'V27', 'V28', 'Amount',\n",
       "       'Class'],\n",
       "      dtype='object')"
      ]
     },
     "execution_count": 6,
     "metadata": {},
     "output_type": "execute_result"
    }
   ],
   "source": [
    "train.columns"
   ]
  },
  {
   "cell_type": "code",
   "execution_count": 7,
   "id": "264d4b7e-8f5a-441b-937a-28b78f0c9ead",
   "metadata": {},
   "outputs": [],
   "source": [
    "feat = train.drop('Class', axis = 1)\n",
    "target = train['Class']"
   ]
  },
  {
   "cell_type": "code",
   "execution_count": 8,
   "id": "836af04d-644a-4244-90bb-c9b65e44aa7e",
   "metadata": {},
   "outputs": [],
   "source": [
    "from sklearn.model_selection import train_test_split as tts"
   ]
  },
  {
   "cell_type": "code",
   "execution_count": 9,
   "id": "2a7598b0-8e4a-4311-b859-cdb6a95024e6",
   "metadata": {},
   "outputs": [],
   "source": [
    "xtr, xts, ytr, yts = tts(feat,target, test_size = 0.2, random_state = 12)"
   ]
  },
  {
   "cell_type": "code",
   "execution_count": 10,
   "id": "4f59d93a-2a98-4751-b0a1-ca63bfbdf352",
   "metadata": {},
   "outputs": [],
   "source": [
    "from sklearn.preprocessing import MinMaxScaler"
   ]
  },
  {
   "cell_type": "code",
   "execution_count": 11,
   "id": "f098b8ce-73e2-4a17-8e10-3b63e93da642",
   "metadata": {},
   "outputs": [],
   "source": [
    "mms = MinMaxScaler((0,1))"
   ]
  },
  {
   "cell_type": "code",
   "execution_count": 19,
   "id": "8d6c1a07-7a1e-4ef6-9a0b-fa24dadf2430",
   "metadata": {},
   "outputs": [],
   "source": [
    "train_ind = ytr[ytr == 1].index\n",
    "xtri = xtr.loc[train_ind]"
   ]
  },
  {
   "cell_type": "code",
   "execution_count": 20,
   "id": "f043b427-cebe-4863-9699-fc87fe584ea0",
   "metadata": {},
   "outputs": [],
   "source": [
    "xtrs = mms.fit_transform(xtri.copy())"
   ]
  },
  {
   "cell_type": "code",
   "execution_count": 21,
   "id": "3fbc6148-bc08-4983-96cd-cf5248d44aed",
   "metadata": {},
   "outputs": [
    {
     "data": {
      "text/plain": [
       "(399, 30)"
      ]
     },
     "execution_count": 21,
     "metadata": {},
     "output_type": "execute_result"
    }
   ],
   "source": [
    "xtrs.shape"
   ]
  },
  {
   "cell_type": "code",
   "execution_count": 22,
   "id": "8c1b0d8e-a5f2-4c3f-87a3-cbeedef5d5e9",
   "metadata": {},
   "outputs": [],
   "source": [
    "xtss = mms.transform(xts.copy())"
   ]
  },
  {
   "cell_type": "code",
   "execution_count": 32,
   "id": "b924bfe6-2c65-4bb0-9bfc-938c93b137ba",
   "metadata": {},
   "outputs": [],
   "source": [
    "class Aen(Model):\n",
    "    def __init__(self, out, ldim = 8):\n",
    "        super().__init__()\n",
    "        self.encoder = Sequential([\n",
    "            Dense(64, 'relu'),\n",
    "            Dense(32, 'relu'),\n",
    "            Dense(ldim, 'relu')\n",
    "        ])\n",
    "        self.decoder = Sequential([\n",
    "            Dense(32, 'relu'),\n",
    "            Dense(64, 'relu'),\n",
    "            Dense(out, 'sigmoid')\n",
    "        ])\n",
    "    def call(self,inputs):\n",
    "        en = self.encoder(inputs)\n",
    "        de = self.decoder(en)\n",
    "        return de"
   ]
  },
  {
   "cell_type": "code",
   "execution_count": 33,
   "id": "e8e8bbc1-7df5-426b-bdfb-b329b1559db7",
   "metadata": {},
   "outputs": [],
   "source": [
    "model = Aen(out = xtrs.shape[1])"
   ]
  },
  {
   "cell_type": "code",
   "execution_count": 53,
   "id": "0534ffcd-7eef-439c-a14c-f0eae37474c8",
   "metadata": {},
   "outputs": [],
   "source": [
    "model.compile(optimizer = 'adam', loss = 'mse', metrics = ['mse'])"
   ]
  },
  {
   "cell_type": "code",
   "execution_count": 54,
   "id": "c09aec0f-365c-4dd8-96da-2dc89bba1c08",
   "metadata": {},
   "outputs": [
    {
     "name": "stdout",
     "output_type": "stream",
     "text": [
      "Epoch 1/20\n",
      "\u001b[1m13/13\u001b[0m \u001b[32m━━━━━━━━━━━━━━━━━━━━\u001b[0m\u001b[37m\u001b[0m \u001b[1m7s\u001b[0m 298ms/step - loss: 0.0099 - mse: 0.0099 - val_loss: 0.0087 - val_mse: 0.0087\n",
      "Epoch 2/20\n",
      "\u001b[1m13/13\u001b[0m \u001b[32m━━━━━━━━━━━━━━━━━━━━\u001b[0m\u001b[37m\u001b[0m \u001b[1m3s\u001b[0m 270ms/step - loss: 0.0100 - mse: 0.0100 - val_loss: 0.0083 - val_mse: 0.0083\n",
      "Epoch 3/20\n",
      "\u001b[1m13/13\u001b[0m \u001b[32m━━━━━━━━━━━━━━━━━━━━\u001b[0m\u001b[37m\u001b[0m \u001b[1m3s\u001b[0m 273ms/step - loss: 0.0094 - mse: 0.0094 - val_loss: 0.0081 - val_mse: 0.0081\n",
      "Epoch 4/20\n",
      "\u001b[1m13/13\u001b[0m \u001b[32m━━━━━━━━━━━━━━━━━━━━\u001b[0m\u001b[37m\u001b[0m \u001b[1m3s\u001b[0m 276ms/step - loss: 0.0094 - mse: 0.0094 - val_loss: 0.0081 - val_mse: 0.0081\n",
      "Epoch 5/20\n",
      "\u001b[1m13/13\u001b[0m \u001b[32m━━━━━━━━━━━━━━━━━━━━\u001b[0m\u001b[37m\u001b[0m \u001b[1m3s\u001b[0m 261ms/step - loss: 0.0091 - mse: 0.0091 - val_loss: 0.0081 - val_mse: 0.0081\n",
      "Epoch 6/20\n",
      "\u001b[1m13/13\u001b[0m \u001b[32m━━━━━━━━━━━━━━━━━━━━\u001b[0m\u001b[37m\u001b[0m \u001b[1m3s\u001b[0m 277ms/step - loss: 0.0087 - mse: 0.0087 - val_loss: 0.0081 - val_mse: 0.0081\n",
      "Epoch 7/20\n",
      "\u001b[1m13/13\u001b[0m \u001b[32m━━━━━━━━━━━━━━━━━━━━\u001b[0m\u001b[37m\u001b[0m \u001b[1m3s\u001b[0m 276ms/step - loss: 0.0089 - mse: 0.0089 - val_loss: 0.0081 - val_mse: 0.0081\n",
      "Epoch 8/20\n",
      "\u001b[1m13/13\u001b[0m \u001b[32m━━━━━━━━━━━━━━━━━━━━\u001b[0m\u001b[37m\u001b[0m \u001b[1m3s\u001b[0m 261ms/step - loss: 0.0087 - mse: 0.0087 - val_loss: 0.0080 - val_mse: 0.0080\n",
      "Epoch 9/20\n",
      "\u001b[1m13/13\u001b[0m \u001b[32m━━━━━━━━━━━━━━━━━━━━\u001b[0m\u001b[37m\u001b[0m \u001b[1m3s\u001b[0m 276ms/step - loss: 0.0085 - mse: 0.0085 - val_loss: 0.0077 - val_mse: 0.0077\n",
      "Epoch 10/20\n",
      "\u001b[1m13/13\u001b[0m \u001b[32m━━━━━━━━━━━━━━━━━━━━\u001b[0m\u001b[37m\u001b[0m \u001b[1m3s\u001b[0m 281ms/step - loss: 0.0083 - mse: 0.0083 - val_loss: 0.0078 - val_mse: 0.0078\n",
      "Epoch 11/20\n",
      "\u001b[1m13/13\u001b[0m \u001b[32m━━━━━━━━━━━━━━━━━━━━\u001b[0m\u001b[37m\u001b[0m \u001b[1m3s\u001b[0m 263ms/step - loss: 0.0078 - mse: 0.0078 - val_loss: 0.0076 - val_mse: 0.0076\n",
      "Epoch 12/20\n",
      "\u001b[1m13/13\u001b[0m \u001b[32m━━━━━━━━━━━━━━━━━━━━\u001b[0m\u001b[37m\u001b[0m \u001b[1m3s\u001b[0m 275ms/step - loss: 0.0073 - mse: 0.0073 - val_loss: 0.0077 - val_mse: 0.0077\n",
      "Epoch 13/20\n",
      "\u001b[1m13/13\u001b[0m \u001b[32m━━━━━━━━━━━━━━━━━━━━\u001b[0m\u001b[37m\u001b[0m \u001b[1m4s\u001b[0m 304ms/step - loss: 0.0078 - mse: 0.0078 - val_loss: 0.0072 - val_mse: 0.0072\n",
      "Epoch 14/20\n",
      "\u001b[1m13/13\u001b[0m \u001b[32m━━━━━━━━━━━━━━━━━━━━\u001b[0m\u001b[37m\u001b[0m \u001b[1m3s\u001b[0m 272ms/step - loss: 0.0070 - mse: 0.0070 - val_loss: 0.0073 - val_mse: 0.0073\n",
      "Epoch 15/20\n",
      "\u001b[1m13/13\u001b[0m \u001b[32m━━━━━━━━━━━━━━━━━━━━\u001b[0m\u001b[37m\u001b[0m \u001b[1m3s\u001b[0m 278ms/step - loss: 0.0073 - mse: 0.0073 - val_loss: 0.0072 - val_mse: 0.0072\n",
      "Epoch 16/20\n",
      "\u001b[1m13/13\u001b[0m \u001b[32m━━━━━━━━━━━━━━━━━━━━\u001b[0m\u001b[37m\u001b[0m \u001b[1m4s\u001b[0m 291ms/step - loss: 0.0074 - mse: 0.0074 - val_loss: 0.0071 - val_mse: 0.0071\n",
      "Epoch 17/20\n",
      "\u001b[1m13/13\u001b[0m \u001b[32m━━━━━━━━━━━━━━━━━━━━\u001b[0m\u001b[37m\u001b[0m \u001b[1m4s\u001b[0m 288ms/step - loss: 0.0070 - mse: 0.0070 - val_loss: 0.0071 - val_mse: 0.0071\n",
      "Epoch 18/20\n",
      "\u001b[1m13/13\u001b[0m \u001b[32m━━━━━━━━━━━━━━━━━━━━\u001b[0m\u001b[37m\u001b[0m \u001b[1m3s\u001b[0m 286ms/step - loss: 0.0068 - mse: 0.0068 - val_loss: 0.0071 - val_mse: 0.0071\n",
      "Epoch 19/20\n",
      "\u001b[1m13/13\u001b[0m \u001b[32m━━━━━━━━━━━━━━━━━━━━\u001b[0m\u001b[37m\u001b[0m \u001b[1m3s\u001b[0m 274ms/step - loss: 0.0073 - mse: 0.0073 - val_loss: 0.0070 - val_mse: 0.0070\n",
      "Epoch 20/20\n",
      "\u001b[1m13/13\u001b[0m \u001b[32m━━━━━━━━━━━━━━━━━━━━\u001b[0m\u001b[37m\u001b[0m \u001b[1m3s\u001b[0m 255ms/step - loss: 0.0069 - mse: 0.0069 - val_loss: 0.0070 - val_mse: 0.0070\n"
     ]
    }
   ],
   "source": [
    "history = model.fit(xtrs, xtrs, epochs=20, validation_data=(xtss, xtss))"
   ]
  },
  {
   "cell_type": "code",
   "execution_count": 56,
   "id": "d8b7e9fe-811a-4b91-96f8-bc4c634a899f",
   "metadata": {},
   "outputs": [],
   "source": [
    "from tensorflow.keras.metrics import mse"
   ]
  },
  {
   "cell_type": "code",
   "execution_count": 57,
   "id": "5bd9738c-f3cd-4f53-8c71-cc307b6c184a",
   "metadata": {},
   "outputs": [
    {
     "name": "stdout",
     "output_type": "stream",
     "text": [
      "\u001b[1m7121/7121\u001b[0m \u001b[32m━━━━━━━━━━━━━━━━━━━━\u001b[0m\u001b[37m\u001b[0m \u001b[1m16s\u001b[0m 2ms/step\n"
     ]
    }
   ],
   "source": [
    "def findth(model, xtr):\n",
    "    recons = model.predict(xtr)\n",
    "    er = mse(recons, xtr)\n",
    "    th = np.mean(er.numpy()) + np.std(er.numpy())\n",
    "    return th\n",
    "thres = findth(model, xtr)"
   ]
  },
  {
   "cell_type": "code",
   "execution_count": 58,
   "id": "7fa533f5-ace5-4437-b1d4-fabda61ec431",
   "metadata": {},
   "outputs": [
    {
     "data": {
      "text/plain": [
       "679158073.0160384"
      ]
     },
     "execution_count": 58,
     "metadata": {},
     "output_type": "execute_result"
    }
   ],
   "source": [
    "thres"
   ]
  },
  {
   "cell_type": "code",
   "execution_count": 66,
   "id": "b16d868b-bba9-43c2-a159-f2e24305da4e",
   "metadata": {},
   "outputs": [
    {
     "data": {
      "text/plain": [
       "0"
      ]
     },
     "execution_count": 66,
     "metadata": {},
     "output_type": "execute_result"
    }
   ],
   "source": []
  },
  {
   "cell_type": "code",
   "execution_count": 59,
   "id": "aa8ded91-8586-4e23-88da-dbbeb15a4228",
   "metadata": {},
   "outputs": [],
   "source": [
    "def get_pred(model, ther, xts):\n",
    "    re = model.predict(xts)\n",
    "    er = msle(re, xts)\n",
    "    anomsk = pd.Series(er) > ther\n",
    "    pred = anomsk.map(lambda x : 0.0 if x==True else 1.0)\n",
    "    return pred"
   ]
  },
  {
   "cell_type": "code",
   "execution_count": 60,
   "id": "fb029669-00c9-451e-891e-93b4fc8ea234",
   "metadata": {},
   "outputs": [
    {
     "name": "stdout",
     "output_type": "stream",
     "text": [
      "\u001b[1m1781/1781\u001b[0m \u001b[32m━━━━━━━━━━━━━━━━━━━━\u001b[0m\u001b[37m\u001b[0m \u001b[1m4s\u001b[0m 2ms/step\n"
     ]
    }
   ],
   "source": [
    "pred = get_pred(model, thres, xtss)"
   ]
  },
  {
   "cell_type": "code",
   "execution_count": 61,
   "id": "66afd40a-37e1-4228-824c-07b422aba9d7",
   "metadata": {},
   "outputs": [],
   "source": [
    "from sklearn.metrics import accuracy_score"
   ]
  },
  {
   "cell_type": "code",
   "execution_count": 62,
   "id": "1515f320-770c-4e4a-b6de-ea19b48dc330",
   "metadata": {},
   "outputs": [],
   "source": [
    "acc = accuracy_score(pred, yts)"
   ]
  },
  {
   "cell_type": "code",
   "execution_count": 63,
   "id": "9a22b1d4-a3d1-43e1-8fdb-ec6dcfe325f4",
   "metadata": {},
   "outputs": [
    {
     "data": {
      "text/plain": [
       "0.0016326673922966188"
      ]
     },
     "execution_count": 63,
     "metadata": {},
     "output_type": "execute_result"
    }
   ],
   "source": [
    "acc"
   ]
  },
  {
   "cell_type": "code",
   "execution_count": 52,
   "id": "1fd97046-9ac2-4b81-9d48-f9074f7644bf",
   "metadata": {},
   "outputs": [
    {
     "data": {
      "text/plain": [
       "0.0016326673922966188"
      ]
     },
     "execution_count": 52,
     "metadata": {},
     "output_type": "execute_result"
    }
   ],
   "source": [
    "acc"
   ]
  }
 ],
 "metadata": {
  "kernelspec": {
   "display_name": "Python 3 (ipykernel)",
   "language": "python",
   "name": "python3"
  },
  "language_info": {
   "codemirror_mode": {
    "name": "ipython",
    "version": 3
   },
   "file_extension": ".py",
   "mimetype": "text/x-python",
   "name": "python",
   "nbconvert_exporter": "python",
   "pygments_lexer": "ipython3",
   "version": "3.11.3"
  }
 },
 "nbformat": 4,
 "nbformat_minor": 5
}
