{
 "cells": [
  {
   "cell_type": "code",
   "execution_count": 1,
   "id": "48b5344d-7a92-4034-b645-4fc3c60acb6c",
   "metadata": {},
   "outputs": [],
   "source": [
    "from tensorflow.keras.models import Sequential\n",
    "from tensorflow.keras.layers import Conv2D, MaxPooling2D, Dense, Flatten, Input\n",
    "from tensorflow.keras.utils import to_categorical as tc\n",
    "import numpy as np\n",
    "import pandas as pd\n",
    "import matplotlib.pyplot as plt"
   ]
  },
  {
   "cell_type": "code",
   "execution_count": 3,
   "id": "1e5d2ccb-5ad5-4065-a471-1685a8488981",
   "metadata": {},
   "outputs": [],
   "source": [
    "train = pd.read_csv('C:\\\\Users\\\\ankur_vc1xnom\\\\Desktop\\\\LP4\\\\LP-IV-datasets\\\\CIFR(Ass2&3)\\\\train_data.csv')\n",
    "test = pd.read_csv('C:\\\\Users\\\\ankur_vc1xnom\\\\Desktop\\\\LP4\\\\LP-IV-datasets\\\\CIFR(Ass2&3)\\\\test_data.csv')"
   ]
  },
  {
   "cell_type": "code",
   "execution_count": 5,
   "id": "3775fb69-099d-47a9-9290-5ad5f6008a4a",
   "metadata": {},
   "outputs": [
    {
     "data": {
      "text/plain": [
       "Index(['pixel_0', 'pixel_1', 'pixel_2', 'pixel_3', 'pixel_4', 'pixel_5',\n",
       "       'pixel_6', 'pixel_7', 'pixel_8', 'pixel_9',\n",
       "       ...\n",
       "       'pixel_3063', 'pixel_3064', 'pixel_3065', 'pixel_3066', 'pixel_3067',\n",
       "       'pixel_3068', 'pixel_3069', 'pixel_3070', 'pixel_3071', 'label'],\n",
       "      dtype='object', length=3073)"
      ]
     },
     "execution_count": 5,
     "metadata": {},
     "output_type": "execute_result"
    }
   ],
   "source": [
    "train.columns"
   ]
  },
  {
   "cell_type": "code",
   "execution_count": 9,
   "id": "b8ed5ea0-636c-46f8-b671-928bf9a93104",
   "metadata": {},
   "outputs": [],
   "source": [
    "xt = train.drop('label', axis = 1).values\n",
    "tx = test.drop('label', axis = 1).values"
   ]
  },
  {
   "cell_type": "code",
   "execution_count": 10,
   "id": "bb440c8b-9435-4e92-b9cd-9e21c240e8d4",
   "metadata": {},
   "outputs": [
    {
     "data": {
      "text/plain": [
       "(50000, 3072)"
      ]
     },
     "execution_count": 10,
     "metadata": {},
     "output_type": "execute_result"
    }
   ],
   "source": [
    "xt.shape"
   ]
  },
  {
   "cell_type": "code",
   "execution_count": 11,
   "id": "93ba0b99-57ea-40e4-b006-1b53e93163db",
   "metadata": {},
   "outputs": [],
   "source": [
    "xt, tx = xt.reshape(-1,32,32,3)/255.0, tx.reshape(-1,32,32,3)/255.0"
   ]
  },
  {
   "cell_type": "code",
   "execution_count": 12,
   "id": "4b7fa7f4-f61c-4921-8b99-51064eace78a",
   "metadata": {},
   "outputs": [],
   "source": [
    "yt = train['label'].values\n",
    "ty = test['label'].values"
   ]
  },
  {
   "cell_type": "code",
   "execution_count": 13,
   "id": "c9aeae8f-e3a8-437b-bb12-b399cc56c0c5",
   "metadata": {},
   "outputs": [],
   "source": [
    "yt = tc(yt, 10)\n",
    "ty = tc(ty, 10)"
   ]
  },
  {
   "cell_type": "code",
   "execution_count": 16,
   "id": "e564ea09-e68d-4d02-8250-2b2dcb6caefe",
   "metadata": {},
   "outputs": [],
   "source": [
    "model = Sequential(\n",
    "    [\n",
    "        Input((32,32,3)),\n",
    "        Conv2D(64, (3,3), activation = 'relu'),\n",
    "        MaxPooling2D((2,2)),\n",
    "        Conv2D(64, (3,3), activation = 'relu'),\n",
    "        MaxPooling2D((2,2)),\n",
    "        Conv2D(64, (3,3), activation = 'relu'),\n",
    "        Flatten(),\n",
    "        Dense(64, activation = 'relu'),\n",
    "        Dense(10, activation = 'softmax')\n",
    "    ]\n",
    ")"
   ]
  },
  {
   "cell_type": "code",
   "execution_count": 18,
   "id": "fc59fee7-4133-49c2-96cd-7a4a86f78412",
   "metadata": {},
   "outputs": [],
   "source": [
    "model.compile(optimizer = 'adam', loss='msle', metrics = ['accuracy'])"
   ]
  },
  {
   "cell_type": "code",
   "execution_count": 19,
   "id": "521f5865-3659-44fa-aac6-56c551c37746",
   "metadata": {},
   "outputs": [
    {
     "name": "stdout",
     "output_type": "stream",
     "text": [
      "Epoch 1/5\n",
      "\u001b[1m1563/1563\u001b[0m \u001b[32m━━━━━━━━━━━━━━━━━━━━\u001b[0m\u001b[37m\u001b[0m \u001b[1m28s\u001b[0m 16ms/step - accuracy: 0.3243 - loss: 0.0377 - val_accuracy: 0.5324 - val_loss: 0.0292\n",
      "Epoch 2/5\n",
      "\u001b[1m1563/1563\u001b[0m \u001b[32m━━━━━━━━━━━━━━━━━━━━\u001b[0m\u001b[37m\u001b[0m \u001b[1m24s\u001b[0m 15ms/step - accuracy: 0.5593 - loss: 0.0279 - val_accuracy: 0.6078 - val_loss: 0.0252\n",
      "Epoch 3/5\n",
      "\u001b[1m1563/1563\u001b[0m \u001b[32m━━━━━━━━━━━━━━━━━━━━\u001b[0m\u001b[37m\u001b[0m \u001b[1m23s\u001b[0m 15ms/step - accuracy: 0.6257 - loss: 0.0243 - val_accuracy: 0.6301 - val_loss: 0.0240\n",
      "Epoch 4/5\n",
      "\u001b[1m1563/1563\u001b[0m \u001b[32m━━━━━━━━━━━━━━━━━━━━\u001b[0m\u001b[37m\u001b[0m \u001b[1m23s\u001b[0m 15ms/step - accuracy: 0.6700 - loss: 0.0219 - val_accuracy: 0.6557 - val_loss: 0.0227\n",
      "Epoch 5/5\n",
      "\u001b[1m1563/1563\u001b[0m \u001b[32m━━━━━━━━━━━━━━━━━━━━\u001b[0m\u001b[37m\u001b[0m \u001b[1m23s\u001b[0m 15ms/step - accuracy: 0.6993 - loss: 0.0203 - val_accuracy: 0.6758 - val_loss: 0.0217\n"
     ]
    },
    {
     "data": {
      "text/plain": [
       "<keras.src.callbacks.history.History at 0x25a97492fd0>"
      ]
     },
     "execution_count": 19,
     "metadata": {},
     "output_type": "execute_result"
    }
   ],
   "source": [
    "model.fit(xt,yt, epochs = 5, validation_data = (tx,ty))"
   ]
  },
  {
   "cell_type": "code",
   "execution_count": 20,
   "id": "a69446af-1d12-4b31-a6b9-83642cf52790",
   "metadata": {},
   "outputs": [
    {
     "name": "stdout",
     "output_type": "stream",
     "text": [
      "\u001b[1m313/313\u001b[0m \u001b[32m━━━━━━━━━━━━━━━━━━━━\u001b[0m\u001b[37m\u001b[0m \u001b[1m3s\u001b[0m 9ms/step - accuracy: 0.6765 - loss: 0.0218\n"
     ]
    }
   ],
   "source": [
    "tl, ta = model.evaluate(tx,ty)"
   ]
  },
  {
   "cell_type": "code",
   "execution_count": 21,
   "id": "026be6b4-cdb0-46fa-a2cc-f7990e0efac4",
   "metadata": {},
   "outputs": [
    {
     "data": {
      "text/plain": [
       "0.021712366491556168"
      ]
     },
     "execution_count": 21,
     "metadata": {},
     "output_type": "execute_result"
    }
   ],
   "source": [
    "tl"
   ]
  },
  {
   "cell_type": "code",
   "execution_count": 22,
   "id": "178158ff-fb41-42e6-9fea-0505b41cbbda",
   "metadata": {},
   "outputs": [
    {
     "data": {
      "text/plain": [
       "0.6758000254631042"
      ]
     },
     "execution_count": 22,
     "metadata": {},
     "output_type": "execute_result"
    }
   ],
   "source": [
    "ta"
   ]
  },
  {
   "cell_type": "code",
   "execution_count": null,
   "id": "65b2e60a-c13e-4224-9b14-e9e3c36b58cb",
   "metadata": {},
   "outputs": [],
   "source": []
  }
 ],
 "metadata": {
  "kernelspec": {
   "display_name": "Python 3 (ipykernel)",
   "language": "python",
   "name": "python3"
  },
  "language_info": {
   "codemirror_mode": {
    "name": "ipython",
    "version": 3
   },
   "file_extension": ".py",
   "mimetype": "text/x-python",
   "name": "python",
   "nbconvert_exporter": "python",
   "pygments_lexer": "ipython3",
   "version": "3.11.3"
  }
 },
 "nbformat": 4,
 "nbformat_minor": 5
}
