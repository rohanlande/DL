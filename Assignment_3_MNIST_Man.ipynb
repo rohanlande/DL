{
 "cells": [
  {
   "cell_type": "code",
   "execution_count": 9,
   "id": "14419476-2437-49c3-bd76-75599851c8e9",
   "metadata": {},
   "outputs": [],
   "source": [
    "from tensorflow.keras.models import Sequential\n",
    "from tensorflow.keras.layers import Conv2D, MaxPooling2D, Dense, Flatten, Input\n",
    "from tensorflow.keras.utils import to_categorical as tc\n",
    "import numpy as np\n",
    "import pandas as pd\n",
    "import matplotlib.pyplot as plt"
   ]
  },
  {
   "cell_type": "code",
   "execution_count": 10,
   "id": "aae5a9df-27fb-4957-9258-ddedc6a43be3",
   "metadata": {},
   "outputs": [],
   "source": [
    "train_data = pd.read_csv('C:\\\\Users\\\\ankur_vc1xnom\\\\Desktop\\\\LP4\\\\LP-IV-datasets\\\\MNIST(Ass2&3)\\\\mnist_train.csv')\n",
    "test_data = pd.read_csv('C:\\\\Users\\\\ankur_vc1xnom\\\\Desktop\\\\LP4\\\\LP-IV-datasets\\\\MNIST(Ass2&3)\\\\mnist_test.csv')"
   ]
  },
  {
   "cell_type": "code",
   "execution_count": 11,
   "id": "f19ac5bf-7327-4a32-8074-64401f1e4cc4",
   "metadata": {},
   "outputs": [],
   "source": [
    "xtr = train_data.drop('label', axis = 1).values\n",
    "xts = test_data.drop('label', axis = 1).values"
   ]
  },
  {
   "cell_type": "code",
   "execution_count": 12,
   "id": "5fed8247-730f-41e5-a707-2eda6bd610d1",
   "metadata": {},
   "outputs": [],
   "source": [
    "ytr = train_data['label'].values\n",
    "yts = test_data['label'].values"
   ]
  },
  {
   "cell_type": "code",
   "execution_count": 13,
   "id": "14b07ba5-d103-4afa-b008-8968626b5c4b",
   "metadata": {},
   "outputs": [],
   "source": [
    "xtr, xts = xtr.reshape(-1,28,28,1)/255.0, xts.reshape(-1,28,28,1)/255.0\n",
    "ytr = tc(ytr, 10)\n",
    "yts = tc(yts, 10)"
   ]
  },
  {
   "cell_type": "code",
   "execution_count": 14,
   "id": "595df45a-fc32-4a76-bda2-3ab667365eb1",
   "metadata": {},
   "outputs": [
    {
     "data": {
      "text/plain": [
       "(60000, 28, 28, 1)"
      ]
     },
     "execution_count": 14,
     "metadata": {},
     "output_type": "execute_result"
    }
   ],
   "source": [
    "xtr.shape"
   ]
  },
  {
   "cell_type": "code",
   "execution_count": 16,
   "id": "f6c80e9b-bf11-4268-9c82-40dab72a0f41",
   "metadata": {},
   "outputs": [],
   "source": [
    "model = Sequential(\n",
    "    [\n",
    "        Input((28,28,1)),\n",
    "        Conv2D(32,(3,3), activation = 'relu'),\n",
    "        MaxPooling2D((2,2)),\n",
    "        Conv2D(64,(3,3), activation = 'relu'),\n",
    "        MaxPooling2D((2,2)),\n",
    "        Conv2D(64,(3,3), activation = 'relu'),\n",
    "        Flatten(),\n",
    "        Dense(64,  activation = 'relu'),\n",
    "        Dense(10, activation = 'softmax')\n",
    "    ]\n",
    ")"
   ]
  },
  {
   "cell_type": "code",
   "execution_count": 17,
   "id": "11c84660-b7fa-4c5b-8f0e-259d454f20d0",
   "metadata": {},
   "outputs": [],
   "source": [
    "model.compile(optimizer = 'adam', loss = 'binary_crossentropy', metrics = ['accuracy'])"
   ]
  },
  {
   "cell_type": "code",
   "execution_count": 19,
   "id": "b00305d5-9188-4090-9770-d47797b5bc2b",
   "metadata": {},
   "outputs": [
    {
     "name": "stdout",
     "output_type": "stream",
     "text": [
      "Epoch 1/5\n",
      "\u001b[1m1875/1875\u001b[0m \u001b[32m━━━━━━━━━━━━━━━━━━━━\u001b[0m\u001b[37m\u001b[0m \u001b[1m20s\u001b[0m 9ms/step - accuracy: 0.8507 - loss: 0.0874 - val_accuracy: 0.9844 - val_loss: 0.0098\n",
      "Epoch 2/5\n",
      "\u001b[1m1875/1875\u001b[0m \u001b[32m━━━━━━━━━━━━━━━━━━━━\u001b[0m\u001b[37m\u001b[0m \u001b[1m17s\u001b[0m 9ms/step - accuracy: 0.9858 - loss: 0.0104 - val_accuracy: 0.9861 - val_loss: 0.0091\n",
      "Epoch 3/5\n",
      "\u001b[1m1875/1875\u001b[0m \u001b[32m━━━━━━━━━━━━━━━━━━━━\u001b[0m\u001b[37m\u001b[0m \u001b[1m17s\u001b[0m 9ms/step - accuracy: 0.9901 - loss: 0.0067 - val_accuracy: 0.9918 - val_loss: 0.0061\n",
      "Epoch 4/5\n",
      "\u001b[1m1875/1875\u001b[0m \u001b[32m━━━━━━━━━━━━━━━━━━━━\u001b[0m\u001b[37m\u001b[0m \u001b[1m17s\u001b[0m 9ms/step - accuracy: 0.9932 - loss: 0.0048 - val_accuracy: 0.9910 - val_loss: 0.0060\n",
      "Epoch 5/5\n",
      "\u001b[1m1875/1875\u001b[0m \u001b[32m━━━━━━━━━━━━━━━━━━━━\u001b[0m\u001b[37m\u001b[0m \u001b[1m15s\u001b[0m 8ms/step - accuracy: 0.9945 - loss: 0.0038 - val_accuracy: 0.9915 - val_loss: 0.0060\n"
     ]
    }
   ],
   "source": [
    "history = model.fit(xtr, ytr, epochs = 5, validation_data = (xts, yts))"
   ]
  },
  {
   "cell_type": "code",
   "execution_count": 20,
   "id": "c52e61ef-0314-4456-97a3-f072bb868f07",
   "metadata": {},
   "outputs": [
    {
     "name": "stdout",
     "output_type": "stream",
     "text": [
      "\u001b[1m313/313\u001b[0m \u001b[32m━━━━━━━━━━━━━━━━━━━━\u001b[0m\u001b[37m\u001b[0m \u001b[1m1s\u001b[0m 4ms/step - accuracy: 0.9898 - loss: 0.0072\n"
     ]
    }
   ],
   "source": [
    "tl, ta = model.evaluate(xts, yts)"
   ]
  },
  {
   "cell_type": "code",
   "execution_count": 21,
   "id": "fee0cff4-caf6-427d-b39d-a56dd1bf2e47",
   "metadata": {},
   "outputs": [
    {
     "name": "stdout",
     "output_type": "stream",
     "text": [
      "0.006002203561365604    0.9915000200271606\n"
     ]
    }
   ],
   "source": [
    "print(tl, '  ', ta)"
   ]
  },
  {
   "cell_type": "code",
   "execution_count": 25,
   "id": "5e089522-69a6-4c70-9189-30323ac2858e",
   "metadata": {},
   "outputs": [
    {
     "name": "stdout",
     "output_type": "stream",
     "text": [
      "\u001b[1m313/313\u001b[0m \u001b[32m━━━━━━━━━━━━━━━━━━━━\u001b[0m\u001b[37m\u001b[0m \u001b[1m2s\u001b[0m 6ms/step\n"
     ]
    }
   ],
   "source": [
    "from sklearn.metrics import accuracy_score\n",
    "ypr = model.predict(xts)"
   ]
  },
  {
   "cell_type": "code",
   "execution_count": 26,
   "id": "d8b231bc-0eea-4e3f-b60a-d9353cb1683c",
   "metadata": {},
   "outputs": [
    {
     "name": "stdout",
     "output_type": "stream",
     "text": [
      "0.9915\n"
     ]
    }
   ],
   "source": [
    "ypr_labels = np.argmax(ypr, axis=1)\n",
    "yts_labels = np.argmax(yts, axis=1)\n",
    "\n",
    "print(accuracy_score(yts_labels, ypr_labels))"
   ]
  },
  {
   "cell_type": "code",
   "execution_count": null,
   "id": "88aa2e92-ff2a-4d1e-a06b-b21370b22d8a",
   "metadata": {},
   "outputs": [],
   "source": []
  }
 ],
 "metadata": {
  "kernelspec": {
   "display_name": "Python 3 (ipykernel)",
   "language": "python",
   "name": "python3"
  },
  "language_info": {
   "codemirror_mode": {
    "name": "ipython",
    "version": 3
   },
   "file_extension": ".py",
   "mimetype": "text/x-python",
   "name": "python",
   "nbconvert_exporter": "python",
   "pygments_lexer": "ipython3",
   "version": "3.11.3"
  }
 },
 "nbformat": 4,
 "nbformat_minor": 5
}
